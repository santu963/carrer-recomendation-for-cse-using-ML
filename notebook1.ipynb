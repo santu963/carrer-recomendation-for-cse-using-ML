{
 "cells": [
  {
   "cell_type": "markdown",
   "metadata": {},
   "source": [
    "# Importing Packages"
   ]
  },
  {
   "cell_type": "code",
   "execution_count": 23,
   "metadata": {},
   "outputs": [],
   "source": [
    "import numpy as np #used to import mathematical operations\n",
    "import matplotlib.pyplot as plt #used to plot different things in python\n",
    "import pandas as pd #import data sets and manage data sets"
   ]
  },
  {
   "cell_type": "markdown",
   "metadata": {},
   "source": [
    "# Data Exploration"
   ]
  },
  {
   "cell_type": "code",
   "execution_count": 24,
   "metadata": {},
   "outputs": [],
   "source": [
    "dataset = pd.read_csv('para_data_train_shuffle.csv')"
   ]
  },
  {
   "cell_type": "code",
   "execution_count": 25,
   "metadata": {},
   "outputs": [
    {
     "data": {
      "text/html": [
       "<div>\n",
       "<style scoped>\n",
       "    .dataframe tbody tr th:only-of-type {\n",
       "        vertical-align: middle;\n",
       "    }\n",
       "\n",
       "    .dataframe tbody tr th {\n",
       "        vertical-align: top;\n",
       "    }\n",
       "\n",
       "    .dataframe thead th {\n",
       "        text-align: right;\n",
       "    }\n",
       "</style>\n",
       "<table border=\"1\" class=\"dataframe\">\n",
       "  <thead>\n",
       "    <tr style=\"text-align: right;\">\n",
       "      <th></th>\n",
       "      <th>os</th>\n",
       "      <th>alg</th>\n",
       "      <th>pc</th>\n",
       "      <th>se</th>\n",
       "      <th>cn</th>\n",
       "      <th>m</th>\n",
       "      <th>cs</th>\n",
       "      <th>hackathons</th>\n",
       "      <th>certificaions_app development</th>\n",
       "      <th>certificaions_full stack</th>\n",
       "      <th>...</th>\n",
       "      <th>SelfCapabilities_No</th>\n",
       "      <th>SelfCapabilities_Yes</th>\n",
       "      <th>Management/Technical_Management</th>\n",
       "      <th>Management/Technical_Technical</th>\n",
       "      <th>Job_Business Intelligence Analyst</th>\n",
       "      <th>Job_Database Administrator</th>\n",
       "      <th>Job_Project Manager</th>\n",
       "      <th>Job_Security Administrator</th>\n",
       "      <th>Job_Software Developer</th>\n",
       "      <th>Job_Technical Support</th>\n",
       "    </tr>\n",
       "  </thead>\n",
       "  <tbody>\n",
       "    <tr>\n",
       "      <th>0</th>\n",
       "      <td>-0.949977</td>\n",
       "      <td>0.936632</td>\n",
       "      <td>0.354208</td>\n",
       "      <td>0.540938</td>\n",
       "      <td>-0.534963</td>\n",
       "      <td>0.703096</td>\n",
       "      <td>0.781412</td>\n",
       "      <td>-0.144352</td>\n",
       "      <td>0</td>\n",
       "      <td>0</td>\n",
       "      <td>...</td>\n",
       "      <td>0</td>\n",
       "      <td>1</td>\n",
       "      <td>1</td>\n",
       "      <td>0</td>\n",
       "      <td>1</td>\n",
       "      <td>0</td>\n",
       "      <td>0</td>\n",
       "      <td>0</td>\n",
       "      <td>0</td>\n",
       "      <td>0</td>\n",
       "    </tr>\n",
       "    <tr>\n",
       "      <th>1</th>\n",
       "      <td>1.355113</td>\n",
       "      <td>-1.501703</td>\n",
       "      <td>-0.616225</td>\n",
       "      <td>-0.469356</td>\n",
       "      <td>0.843180</td>\n",
       "      <td>0.012219</td>\n",
       "      <td>0.925483</td>\n",
       "      <td>-1.325307</td>\n",
       "      <td>0</td>\n",
       "      <td>0</td>\n",
       "      <td>...</td>\n",
       "      <td>0</td>\n",
       "      <td>1</td>\n",
       "      <td>0</td>\n",
       "      <td>1</td>\n",
       "      <td>0</td>\n",
       "      <td>0</td>\n",
       "      <td>0</td>\n",
       "      <td>0</td>\n",
       "      <td>0</td>\n",
       "      <td>1</td>\n",
       "    </tr>\n",
       "    <tr>\n",
       "      <th>2</th>\n",
       "      <td>1.558503</td>\n",
       "      <td>-1.772629</td>\n",
       "      <td>-1.240076</td>\n",
       "      <td>-0.738767</td>\n",
       "      <td>0.567551</td>\n",
       "      <td>0.357658</td>\n",
       "      <td>-0.155043</td>\n",
       "      <td>-0.734830</td>\n",
       "      <td>0</td>\n",
       "      <td>0</td>\n",
       "      <td>...</td>\n",
       "      <td>0</td>\n",
       "      <td>1</td>\n",
       "      <td>0</td>\n",
       "      <td>1</td>\n",
       "      <td>0</td>\n",
       "      <td>0</td>\n",
       "      <td>0</td>\n",
       "      <td>0</td>\n",
       "      <td>0</td>\n",
       "      <td>1</td>\n",
       "    </tr>\n",
       "    <tr>\n",
       "      <th>3</th>\n",
       "      <td>1.422910</td>\n",
       "      <td>-1.637166</td>\n",
       "      <td>1.116692</td>\n",
       "      <td>0.204174</td>\n",
       "      <td>1.807880</td>\n",
       "      <td>0.979447</td>\n",
       "      <td>-0.515219</td>\n",
       "      <td>0.446125</td>\n",
       "      <td>0</td>\n",
       "      <td>0</td>\n",
       "      <td>...</td>\n",
       "      <td>1</td>\n",
       "      <td>0</td>\n",
       "      <td>0</td>\n",
       "      <td>1</td>\n",
       "      <td>0</td>\n",
       "      <td>0</td>\n",
       "      <td>0</td>\n",
       "      <td>1</td>\n",
       "      <td>0</td>\n",
       "      <td>0</td>\n",
       "    </tr>\n",
       "    <tr>\n",
       "      <th>4</th>\n",
       "      <td>0.744942</td>\n",
       "      <td>0.191585</td>\n",
       "      <td>-0.338959</td>\n",
       "      <td>-1.479649</td>\n",
       "      <td>-1.224034</td>\n",
       "      <td>-0.540482</td>\n",
       "      <td>0.781412</td>\n",
       "      <td>-0.144352</td>\n",
       "      <td>0</td>\n",
       "      <td>0</td>\n",
       "      <td>...</td>\n",
       "      <td>1</td>\n",
       "      <td>0</td>\n",
       "      <td>1</td>\n",
       "      <td>0</td>\n",
       "      <td>0</td>\n",
       "      <td>1</td>\n",
       "      <td>0</td>\n",
       "      <td>0</td>\n",
       "      <td>0</td>\n",
       "      <td>0</td>\n",
       "    </tr>\n",
       "  </tbody>\n",
       "</table>\n",
       "<p>5 rows × 44 columns</p>\n",
       "</div>"
      ],
      "text/plain": [
       "         os       alg        pc        se        cn         m        cs  \\\n",
       "0 -0.949977  0.936632  0.354208  0.540938 -0.534963  0.703096  0.781412   \n",
       "1  1.355113 -1.501703 -0.616225 -0.469356  0.843180  0.012219  0.925483   \n",
       "2  1.558503 -1.772629 -1.240076 -0.738767  0.567551  0.357658 -0.155043   \n",
       "3  1.422910 -1.637166  1.116692  0.204174  1.807880  0.979447 -0.515219   \n",
       "4  0.744942  0.191585 -0.338959 -1.479649 -1.224034 -0.540482  0.781412   \n",
       "\n",
       "   hackathons  certificaions_app development  certificaions_full stack  ...  \\\n",
       "0   -0.144352                              0                         0  ...   \n",
       "1   -1.325307                              0                         0  ...   \n",
       "2   -0.734830                              0                         0  ...   \n",
       "3    0.446125                              0                         0  ...   \n",
       "4   -0.144352                              0                         0  ...   \n",
       "\n",
       "   SelfCapabilities_No  SelfCapabilities_Yes  Management/Technical_Management  \\\n",
       "0                    0                     1                                1   \n",
       "1                    0                     1                                0   \n",
       "2                    0                     1                                0   \n",
       "3                    1                     0                                0   \n",
       "4                    1                     0                                1   \n",
       "\n",
       "   Management/Technical_Technical  Job_Business Intelligence Analyst  \\\n",
       "0                               0                                  1   \n",
       "1                               1                                  0   \n",
       "2                               1                                  0   \n",
       "3                               1                                  0   \n",
       "4                               0                                  0   \n",
       "\n",
       "   Job_Database Administrator  Job_Project Manager  \\\n",
       "0                           0                    0   \n",
       "1                           0                    0   \n",
       "2                           0                    0   \n",
       "3                           0                    0   \n",
       "4                           1                    0   \n",
       "\n",
       "   Job_Security Administrator  Job_Software Developer  Job_Technical Support  \n",
       "0                           0                       0                      0  \n",
       "1                           0                       0                      1  \n",
       "2                           0                       0                      1  \n",
       "3                           1                       0                      0  \n",
       "4                           0                       0                      0  \n",
       "\n",
       "[5 rows x 44 columns]"
      ]
     },
     "execution_count": 25,
     "metadata": {},
     "output_type": "execute_result"
    }
   ],
   "source": [
    "dataset.head()"
   ]
  },
  {
   "cell_type": "markdown",
   "metadata": {},
   "source": [
    "# Feature Selection for training and testing Datas"
   ]
  },
  {
   "cell_type": "code",
   "execution_count": 26,
   "metadata": {},
   "outputs": [],
   "source": [
    "X_train = dataset.iloc[: , :38].values  #independant variable vector"
   ]
  },
  {
   "cell_type": "code",
   "execution_count": 27,
   "metadata": {},
   "outputs": [],
   "source": [
    "Y_train = dataset.iloc[: , 38:].values"
   ]
  },
  {
   "cell_type": "code",
   "execution_count": 28,
   "metadata": {},
   "outputs": [],
   "source": [
    "dataset1 = pd.read_csv('para_data_test_shuffle.csv')"
   ]
  },
  {
   "cell_type": "code",
   "execution_count": 36,
   "metadata": {},
   "outputs": [
    {
     "data": {
      "text/html": [
       "<div>\n",
       "<style scoped>\n",
       "    .dataframe tbody tr th:only-of-type {\n",
       "        vertical-align: middle;\n",
       "    }\n",
       "\n",
       "    .dataframe tbody tr th {\n",
       "        vertical-align: top;\n",
       "    }\n",
       "\n",
       "    .dataframe thead th {\n",
       "        text-align: right;\n",
       "    }\n",
       "</style>\n",
       "<table border=\"1\" class=\"dataframe\">\n",
       "  <thead>\n",
       "    <tr style=\"text-align: right;\">\n",
       "      <th></th>\n",
       "      <th>os</th>\n",
       "      <th>alg</th>\n",
       "      <th>pc</th>\n",
       "      <th>se</th>\n",
       "      <th>cn</th>\n",
       "      <th>m</th>\n",
       "      <th>cs</th>\n",
       "      <th>hackathons</th>\n",
       "      <th>certificaions_app development</th>\n",
       "      <th>certificaions_full stack</th>\n",
       "      <th>...</th>\n",
       "      <th>SelfCapabilities_No</th>\n",
       "      <th>SelfCapabilities_Yes</th>\n",
       "      <th>Management/Technical_Management</th>\n",
       "      <th>Management/Technical_Technical</th>\n",
       "      <th>Job_Business Intelligence Analyst</th>\n",
       "      <th>Job_Database Administrator</th>\n",
       "      <th>Job_Project Manager</th>\n",
       "      <th>Job_Security Administrator</th>\n",
       "      <th>Job_Software Developer</th>\n",
       "      <th>Job_Technical Support</th>\n",
       "    </tr>\n",
       "  </thead>\n",
       "  <tbody>\n",
       "    <tr>\n",
       "      <th>0</th>\n",
       "      <td>-1.899132</td>\n",
       "      <td>-1.298508</td>\n",
       "      <td>0.146258</td>\n",
       "      <td>0.271527</td>\n",
       "      <td>0.429737</td>\n",
       "      <td>-0.056868</td>\n",
       "      <td>0.709377</td>\n",
       "      <td>0.446125</td>\n",
       "      <td>0</td>\n",
       "      <td>1</td>\n",
       "      <td>...</td>\n",
       "      <td>1</td>\n",
       "      <td>0</td>\n",
       "      <td>1</td>\n",
       "      <td>0</td>\n",
       "      <td>0</td>\n",
       "      <td>0</td>\n",
       "      <td>1</td>\n",
       "      <td>0</td>\n",
       "      <td>0</td>\n",
       "      <td>0</td>\n",
       "    </tr>\n",
       "    <tr>\n",
       "      <th>1</th>\n",
       "      <td>-1.695742</td>\n",
       "      <td>1.410753</td>\n",
       "      <td>-0.962809</td>\n",
       "      <td>1.147115</td>\n",
       "      <td>-1.017313</td>\n",
       "      <td>0.979447</td>\n",
       "      <td>0.565307</td>\n",
       "      <td>-0.144352</td>\n",
       "      <td>0</td>\n",
       "      <td>0</td>\n",
       "      <td>...</td>\n",
       "      <td>0</td>\n",
       "      <td>1</td>\n",
       "      <td>1</td>\n",
       "      <td>0</td>\n",
       "      <td>1</td>\n",
       "      <td>0</td>\n",
       "      <td>0</td>\n",
       "      <td>0</td>\n",
       "      <td>0</td>\n",
       "      <td>0</td>\n",
       "    </tr>\n",
       "    <tr>\n",
       "      <th>2</th>\n",
       "      <td>-1.627945</td>\n",
       "      <td>1.004364</td>\n",
       "      <td>0.492842</td>\n",
       "      <td>0.810350</td>\n",
       "      <td>0.154108</td>\n",
       "      <td>1.670325</td>\n",
       "      <td>0.421237</td>\n",
       "      <td>-0.734830</td>\n",
       "      <td>0</td>\n",
       "      <td>0</td>\n",
       "      <td>...</td>\n",
       "      <td>0</td>\n",
       "      <td>1</td>\n",
       "      <td>1</td>\n",
       "      <td>0</td>\n",
       "      <td>1</td>\n",
       "      <td>0</td>\n",
       "      <td>0</td>\n",
       "      <td>0</td>\n",
       "      <td>0</td>\n",
       "      <td>0</td>\n",
       "    </tr>\n",
       "    <tr>\n",
       "      <th>3</th>\n",
       "      <td>1.558503</td>\n",
       "      <td>0.394780</td>\n",
       "      <td>0.284892</td>\n",
       "      <td>-0.738767</td>\n",
       "      <td>-0.328241</td>\n",
       "      <td>-1.438623</td>\n",
       "      <td>-0.227079</td>\n",
       "      <td>-0.734830</td>\n",
       "      <td>0</td>\n",
       "      <td>0</td>\n",
       "      <td>...</td>\n",
       "      <td>1</td>\n",
       "      <td>0</td>\n",
       "      <td>1</td>\n",
       "      <td>0</td>\n",
       "      <td>0</td>\n",
       "      <td>1</td>\n",
       "      <td>0</td>\n",
       "      <td>0</td>\n",
       "      <td>0</td>\n",
       "      <td>0</td>\n",
       "    </tr>\n",
       "    <tr>\n",
       "      <th>4</th>\n",
       "      <td>-0.068619</td>\n",
       "      <td>1.410753</td>\n",
       "      <td>-1.517343</td>\n",
       "      <td>-0.671414</td>\n",
       "      <td>-1.361848</td>\n",
       "      <td>-0.471395</td>\n",
       "      <td>-0.155043</td>\n",
       "      <td>0.446125</td>\n",
       "      <td>0</td>\n",
       "      <td>0</td>\n",
       "      <td>...</td>\n",
       "      <td>1</td>\n",
       "      <td>0</td>\n",
       "      <td>1</td>\n",
       "      <td>0</td>\n",
       "      <td>0</td>\n",
       "      <td>1</td>\n",
       "      <td>0</td>\n",
       "      <td>0</td>\n",
       "      <td>0</td>\n",
       "      <td>0</td>\n",
       "    </tr>\n",
       "  </tbody>\n",
       "</table>\n",
       "<p>5 rows × 44 columns</p>\n",
       "</div>"
      ],
      "text/plain": [
       "         os       alg        pc        se        cn         m        cs  \\\n",
       "0 -1.899132 -1.298508  0.146258  0.271527  0.429737 -0.056868  0.709377   \n",
       "1 -1.695742  1.410753 -0.962809  1.147115 -1.017313  0.979447  0.565307   \n",
       "2 -1.627945  1.004364  0.492842  0.810350  0.154108  1.670325  0.421237   \n",
       "3  1.558503  0.394780  0.284892 -0.738767 -0.328241 -1.438623 -0.227079   \n",
       "4 -0.068619  1.410753 -1.517343 -0.671414 -1.361848 -0.471395 -0.155043   \n",
       "\n",
       "   hackathons  certificaions_app development  certificaions_full stack  ...  \\\n",
       "0    0.446125                              0                         1  ...   \n",
       "1   -0.144352                              0                         0  ...   \n",
       "2   -0.734830                              0                         0  ...   \n",
       "3   -0.734830                              0                         0  ...   \n",
       "4    0.446125                              0                         0  ...   \n",
       "\n",
       "   SelfCapabilities_No  SelfCapabilities_Yes  Management/Technical_Management  \\\n",
       "0                    1                     0                                1   \n",
       "1                    0                     1                                1   \n",
       "2                    0                     1                                1   \n",
       "3                    1                     0                                1   \n",
       "4                    1                     0                                1   \n",
       "\n",
       "   Management/Technical_Technical  Job_Business Intelligence Analyst  \\\n",
       "0                               0                                  0   \n",
       "1                               0                                  1   \n",
       "2                               0                                  1   \n",
       "3                               0                                  0   \n",
       "4                               0                                  0   \n",
       "\n",
       "   Job_Database Administrator  Job_Project Manager  \\\n",
       "0                           0                    1   \n",
       "1                           0                    0   \n",
       "2                           0                    0   \n",
       "3                           1                    0   \n",
       "4                           1                    0   \n",
       "\n",
       "   Job_Security Administrator  Job_Software Developer  Job_Technical Support  \n",
       "0                           0                       0                      0  \n",
       "1                           0                       0                      0  \n",
       "2                           0                       0                      0  \n",
       "3                           0                       0                      0  \n",
       "4                           0                       0                      0  \n",
       "\n",
       "[5 rows x 44 columns]"
      ]
     },
     "execution_count": 36,
     "metadata": {},
     "output_type": "execute_result"
    }
   ],
   "source": [
    "dataset1.head()"
   ]
  },
  {
   "cell_type": "code",
   "execution_count": 29,
   "metadata": {},
   "outputs": [],
   "source": [
    "X_test = dataset1.iloc[: , :38].values  #independant variable vector"
   ]
  },
  {
   "cell_type": "code",
   "execution_count": 30,
   "metadata": {},
   "outputs": [],
   "source": [
    "Y_test = dataset1.iloc[: , 38:].values"
   ]
  },
  {
   "cell_type": "markdown",
   "metadata": {},
   "source": [
    "# Data Scaling"
   ]
  },
  {
   "cell_type": "code",
   "execution_count": 31,
   "metadata": {},
   "outputs": [],
   "source": [
    "from sklearn.preprocessing import StandardScaler\n",
    "sc_X = StandardScaler()\n",
    "X_train = sc_X.fit_transform(X_train)\n",
    "X_test = sc_X.transform(X_test)"
   ]
  },
  {
   "cell_type": "markdown",
   "metadata": {},
   "source": [
    "# Neural Network - CNN"
   ]
  },
  {
   "cell_type": "code",
   "execution_count": 32,
   "metadata": {},
   "outputs": [],
   "source": [
    "from sklearn.decomposition import PCA\n",
    "\n",
    "from keras.models import Sequential\n",
    "from keras.utils import np_utils\n",
    "from keras.layers import Dense, Dropout, GaussianNoise, Conv1D\n",
    "from keras.preprocessing.image import ImageDataGenerator\n",
    "from keras import regularizers\n",
    "import seaborn as sns"
   ]
  },
  {
   "cell_type": "code",
   "execution_count": 33,
   "metadata": {},
   "outputs": [],
   "source": [
    "model = Sequential()\n",
    "layers = 10\n",
    "units = 15"
   ]
  },
  {
   "cell_type": "code",
   "execution_count": 34,
   "metadata": {},
   "outputs": [],
   "source": [
    "model.add(Dense(units, input_dim=38, activation='relu', kernel_regularizer=regularizers.l1(0.1)))"
   ]
  },
  {
   "cell_type": "code",
   "execution_count": 13,
   "metadata": {},
   "outputs": [],
   "source": [
    "for i in range(layers):\n",
    "    model.add(Dense(units, activation='relu'))"
   ]
  },
  {
   "cell_type": "code",
   "execution_count": 14,
   "metadata": {},
   "outputs": [],
   "source": [
    "model.add(Dense(6, activation='softmax'))"
   ]
  },
  {
   "cell_type": "code",
   "execution_count": 15,
   "metadata": {},
   "outputs": [],
   "source": [
    "model.compile(loss='categorical_crossentropy', optimizer='adam', metrics=['categorical_accuracy'])"
   ]
  },
  {
   "cell_type": "code",
   "execution_count": 16,
   "metadata": {},
   "outputs": [
    {
     "name": "stdout",
     "output_type": "stream",
     "text": [
      "Model: \"sequential\"\n",
      "_________________________________________________________________\n",
      "Layer (type)                 Output Shape              Param #   \n",
      "=================================================================\n",
      "dense (Dense)                (None, 15)                585       \n",
      "_________________________________________________________________\n",
      "dense_1 (Dense)              (None, 15)                240       \n",
      "_________________________________________________________________\n",
      "dense_2 (Dense)              (None, 15)                240       \n",
      "_________________________________________________________________\n",
      "dense_3 (Dense)              (None, 15)                240       \n",
      "_________________________________________________________________\n",
      "dense_4 (Dense)              (None, 15)                240       \n",
      "_________________________________________________________________\n",
      "dense_5 (Dense)              (None, 15)                240       \n",
      "_________________________________________________________________\n",
      "dense_6 (Dense)              (None, 15)                240       \n",
      "_________________________________________________________________\n",
      "dense_7 (Dense)              (None, 15)                240       \n",
      "_________________________________________________________________\n",
      "dense_8 (Dense)              (None, 15)                240       \n",
      "_________________________________________________________________\n",
      "dense_9 (Dense)              (None, 15)                240       \n",
      "_________________________________________________________________\n",
      "dense_10 (Dense)             (None, 15)                240       \n",
      "_________________________________________________________________\n",
      "dense_11 (Dense)             (None, 6)                 96        \n",
      "=================================================================\n",
      "Total params: 3,081\n",
      "Trainable params: 3,081\n",
      "Non-trainable params: 0\n",
      "_________________________________________________________________\n"
     ]
    }
   ],
   "source": [
    "model.summary()"
   ]
  },
  {
   "cell_type": "code",
   "execution_count": 17,
   "metadata": {},
   "outputs": [
    {
     "name": "stdout",
     "output_type": "stream",
     "text": [
      "Epoch 1/10\n",
      "21/21 - 1s - loss: 11.1403 - categorical_accuracy: 0.1999 - val_loss: 10.5133 - val_categorical_accuracy: 0.2616\n",
      "Epoch 2/10\n",
      "21/21 - 0s - loss: 9.9636 - categorical_accuracy: 0.3146 - val_loss: 9.3160 - val_categorical_accuracy: 0.4184\n",
      "Epoch 3/10\n",
      "21/21 - 0s - loss: 8.7018 - categorical_accuracy: 0.4498 - val_loss: 7.9456 - val_categorical_accuracy: 0.4887\n",
      "Epoch 4/10\n",
      "21/21 - 0s - loss: 7.2485 - categorical_accuracy: 0.6378 - val_loss: 6.4397 - val_categorical_accuracy: 0.7773\n",
      "Epoch 5/10\n",
      "21/21 - 0s - loss: 5.8386 - categorical_accuracy: 0.8092 - val_loss: 5.1934 - val_categorical_accuracy: 0.8402\n",
      "Epoch 6/10\n",
      "21/21 - 0s - loss: 4.7617 - categorical_accuracy: 0.8286 - val_loss: 4.2755 - val_categorical_accuracy: 0.8500\n",
      "Epoch 7/10\n",
      "21/21 - 0s - loss: 3.9125 - categorical_accuracy: 0.8777 - val_loss: 3.5019 - val_categorical_accuracy: 0.9002\n",
      "Epoch 8/10\n",
      "21/21 - 0s - loss: 3.1736 - categorical_accuracy: 0.9148 - val_loss: 2.8028 - val_categorical_accuracy: 0.9449\n",
      "Epoch 9/10\n",
      "21/21 - 0s - loss: 2.4989 - categorical_accuracy: 0.9698 - val_loss: 2.1585 - val_categorical_accuracy: 0.9949\n",
      "Epoch 10/10\n",
      "21/21 - 0s - loss: 1.8919 - categorical_accuracy: 0.9975 - val_loss: 1.6043 - val_categorical_accuracy: 0.9989\n"
     ]
    }
   ],
   "source": [
    "history = model.fit(X_train, Y_train, epochs=1000, batch_size=512, validation_split=0.30, verbose=2)"
   ]
  },
  {
   "cell_type": "code",
   "execution_count": 18,
   "metadata": {},
   "outputs": [
    {
     "name": "stdout",
     "output_type": "stream",
     "text": [
      "94/94 [==============================] - 1s 6ms/step - loss: 2.6710 - categorical_accuracy: 0.8223\n",
      "Test:  0.8223333358764648\n"
     ]
    }
   ],
   "source": [
    "_, test_acc = model.evaluate(X_test, Y_test, verbose=1)\n",
    "print('Test: ',test_acc)"
   ]
  },
  {
   "cell_type": "markdown",
   "metadata": {},
   "source": [
    "# Saving Model"
   ]
  },
  {
   "cell_type": "code",
   "execution_count": 35,
   "metadata": {},
   "outputs": [],
   "source": [
    "from keras.models import load_model\n",
    "\n",
    "model.save('model.h5')"
   ]
  },
  {
   "cell_type": "markdown",
   "metadata": {},
   "source": [
    "# Accuracy & Loss Visualization"
   ]
  },
  {
   "cell_type": "code",
   "execution_count": 19,
   "metadata": {},
   "outputs": [
    {
     "data": {
      "image/png": "[encoded data removed]",
      "text/plain": [
       "<Figure size 432x288 with 1 Axes>"
      ]
     },
     "metadata": {
      "needs_background": "light"
     },
     "output_type": "display_data"
    }
   ],
   "source": [
    "loss = history.history['loss']\n",
    "val_loss = history.history['val_loss']\n",
    "epochs = range(1, len(loss) + 1)\n",
    "plt.plot(epochs, loss, 'y', label='Training loss')\n",
    "plt.plot(epochs, val_loss, 'r', label='Validation loss')\n",
    "plt.title('Training and validation loss')\n",
    "plt.xlabel('Epochs')\n",
    "plt.ylabel('Loss')\n",
    "plt.legend()\n",
    "plt.show()"
   ]
  },
  {
   "cell_type": "code",
   "execution_count": 22,
   "metadata": {},
   "outputs": [
    {
     "data": {
      "image/png": "[encoded data removed]",
      "text/plain": [
       "<Figure size 432x288 with 1 Axes>"
      ]
     },
     "metadata": {
      "needs_background": "light"
     },
     "output_type": "display_data"
    }
   ],
   "source": [
    "acc = history.history['categorical_accuracy']\n",
    "val_acc = history.history['val_categorical_accuracy']\n",
    "plt.plot(epochs, acc, 'y', label='Training acc')\n",
    "plt.plot(epochs, val_acc, 'r', label='Validation acc')\n",
    "plt.title('Training and validation accuracy')\n",
    "plt.xlabel('Epochs')\n",
    "plt.ylabel('Accuracy')\n",
    "plt.legend()\n",
    "plt.show()"
   ]
  },
  {
   "cell_type": "code",
   "execution_count": null,
   "metadata": {},
   "outputs": [],
   "source": []
  }
 ],
 "metadata": {
  "kernelspec": {
   "display_name": "Python 3",
   "language": "python",
   "name": "python3"
  },
  "language_info": {
   "codemirror_mode": {
    "name": "ipython",
    "version": 3
   },
   "file_extension": ".py",
   "mimetype": "text/x-python",
   "name": "python",
   "nbconvert_exporter": "python",
   "pygments_lexer": "ipython3",
   "version": "3.7.6"
  }
 },
 "nbformat": 4,
 "nbformat_minor": 4
}
