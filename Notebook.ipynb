{
 "cells": [
  {
   "cell_type": "markdown",
   "metadata": {},
   "source": [
    "# Packagae Importing"
   ]
  },
  {
   "cell_type": "code",
   "execution_count": 1,
   "metadata": {},
   "outputs": [],
   "source": [
    "import os\n",
    "import numpy as np\n",
    "import pandas as pd\n",
    "import matplotlib.pyplot as plt\n",
    "from sklearn.utils import resample\n",
    "import joblib\n",
    "import warnings\n",
    "%matplotlib inline"
   ]
  },
  {
   "cell_type": "markdown",
   "metadata": {},
   "source": [
    "# Data Exploration"
   ]
  },
  {
   "cell_type": "code",
   "execution_count": 2,
   "metadata": {},
   "outputs": [
    {
     "data": {
      "text/html": [
       "<div>\n",
       "<style scoped>\n",
       "    .dataframe tbody tr th:only-of-type {\n",
       "        vertical-align: middle;\n",
       "    }\n",
       "\n",
       "    .dataframe tbody tr th {\n",
       "        vertical-align: top;\n",
       "    }\n",
       "\n",
       "    .dataframe thead th {\n",
       "        text-align: right;\n",
       "    }\n",
       "</style>\n",
       "<table border=\"1\" class=\"dataframe\">\n",
       "  <thead>\n",
       "    <tr style=\"text-align: right;\">\n",
       "      <th></th>\n",
       "      <th>Acedamic percentage in Operating Systems</th>\n",
       "      <th>percentage in Algorithms</th>\n",
       "      <th>Percentage in Programming Concepts</th>\n",
       "      <th>Percentage in Software Engineering</th>\n",
       "      <th>Percentage in Computer Networks</th>\n",
       "      <th>Percentage in Electronics Subjects</th>\n",
       "      <th>Percentage in Computer Architecture</th>\n",
       "      <th>Percentage in Mathematics</th>\n",
       "      <th>Percentage in Communication skills</th>\n",
       "      <th>Hours working per day</th>\n",
       "      <th>...</th>\n",
       "      <th>Interested Type of Books</th>\n",
       "      <th>Salary Range Expected</th>\n",
       "      <th>In a Realtionship?</th>\n",
       "      <th>Gentle or Tuff behaviour?</th>\n",
       "      <th>Management or Technical</th>\n",
       "      <th>Salary/work</th>\n",
       "      <th>hard/smart worker</th>\n",
       "      <th>worked in teams ever?</th>\n",
       "      <th>Introvert</th>\n",
       "      <th>Suggested Job Role</th>\n",
       "    </tr>\n",
       "  </thead>\n",
       "  <tbody>\n",
       "    <tr>\n",
       "      <th>0</th>\n",
       "      <td>69</td>\n",
       "      <td>63</td>\n",
       "      <td>78</td>\n",
       "      <td>87</td>\n",
       "      <td>94</td>\n",
       "      <td>94</td>\n",
       "      <td>87</td>\n",
       "      <td>84</td>\n",
       "      <td>61</td>\n",
       "      <td>9</td>\n",
       "      <td>...</td>\n",
       "      <td>Prayer books</td>\n",
       "      <td>salary</td>\n",
       "      <td>no</td>\n",
       "      <td>stubborn</td>\n",
       "      <td>Management</td>\n",
       "      <td>salary</td>\n",
       "      <td>hard worker</td>\n",
       "      <td>yes</td>\n",
       "      <td>no</td>\n",
       "      <td>Database Developer</td>\n",
       "    </tr>\n",
       "    <tr>\n",
       "      <th>1</th>\n",
       "      <td>78</td>\n",
       "      <td>62</td>\n",
       "      <td>73</td>\n",
       "      <td>60</td>\n",
       "      <td>71</td>\n",
       "      <td>70</td>\n",
       "      <td>73</td>\n",
       "      <td>84</td>\n",
       "      <td>91</td>\n",
       "      <td>12</td>\n",
       "      <td>...</td>\n",
       "      <td>Childrens</td>\n",
       "      <td>salary</td>\n",
       "      <td>yes</td>\n",
       "      <td>gentle</td>\n",
       "      <td>Technical</td>\n",
       "      <td>salary</td>\n",
       "      <td>hard worker</td>\n",
       "      <td>no</td>\n",
       "      <td>yes</td>\n",
       "      <td>Portal Administrator</td>\n",
       "    </tr>\n",
       "    <tr>\n",
       "      <th>2</th>\n",
       "      <td>71</td>\n",
       "      <td>86</td>\n",
       "      <td>91</td>\n",
       "      <td>87</td>\n",
       "      <td>61</td>\n",
       "      <td>81</td>\n",
       "      <td>72</td>\n",
       "      <td>72</td>\n",
       "      <td>94</td>\n",
       "      <td>11</td>\n",
       "      <td>...</td>\n",
       "      <td>Travel</td>\n",
       "      <td>Work</td>\n",
       "      <td>no</td>\n",
       "      <td>stubborn</td>\n",
       "      <td>Management</td>\n",
       "      <td>work</td>\n",
       "      <td>hard worker</td>\n",
       "      <td>no</td>\n",
       "      <td>yes</td>\n",
       "      <td>Portal Administrator</td>\n",
       "    </tr>\n",
       "    <tr>\n",
       "      <th>3</th>\n",
       "      <td>76</td>\n",
       "      <td>87</td>\n",
       "      <td>60</td>\n",
       "      <td>84</td>\n",
       "      <td>89</td>\n",
       "      <td>73</td>\n",
       "      <td>62</td>\n",
       "      <td>88</td>\n",
       "      <td>69</td>\n",
       "      <td>7</td>\n",
       "      <td>...</td>\n",
       "      <td>Romance</td>\n",
       "      <td>Work</td>\n",
       "      <td>yes</td>\n",
       "      <td>gentle</td>\n",
       "      <td>Management</td>\n",
       "      <td>work</td>\n",
       "      <td>smart worker</td>\n",
       "      <td>yes</td>\n",
       "      <td>yes</td>\n",
       "      <td>Systems Security Administrator</td>\n",
       "    </tr>\n",
       "    <tr>\n",
       "      <th>4</th>\n",
       "      <td>92</td>\n",
       "      <td>62</td>\n",
       "      <td>90</td>\n",
       "      <td>67</td>\n",
       "      <td>71</td>\n",
       "      <td>89</td>\n",
       "      <td>73</td>\n",
       "      <td>71</td>\n",
       "      <td>73</td>\n",
       "      <td>4</td>\n",
       "      <td>...</td>\n",
       "      <td>Cookbooks</td>\n",
       "      <td>salary</td>\n",
       "      <td>no</td>\n",
       "      <td>stubborn</td>\n",
       "      <td>Management</td>\n",
       "      <td>work</td>\n",
       "      <td>hard worker</td>\n",
       "      <td>yes</td>\n",
       "      <td>yes</td>\n",
       "      <td>Business Systems Analyst</td>\n",
       "    </tr>\n",
       "  </tbody>\n",
       "</table>\n",
       "<p>5 rows × 39 columns</p>\n",
       "</div>"
      ],
      "text/plain": [
       "   Acedamic percentage in Operating Systems  percentage in Algorithms  \\\n",
       "0                                        69                        63   \n",
       "1                                        78                        62   \n",
       "2                                        71                        86   \n",
       "3                                        76                        87   \n",
       "4                                        92                        62   \n",
       "\n",
       "   Percentage in Programming Concepts  Percentage in Software Engineering  \\\n",
       "0                                  78                                  87   \n",
       "1                                  73                                  60   \n",
       "2                                  91                                  87   \n",
       "3                                  60                                  84   \n",
       "4                                  90                                  67   \n",
       "\n",
       "   Percentage in Computer Networks  Percentage in Electronics Subjects  \\\n",
       "0                               94                                  94   \n",
       "1                               71                                  70   \n",
       "2                               61                                  81   \n",
       "3                               89                                  73   \n",
       "4                               71                                  89   \n",
       "\n",
       "   Percentage in Computer Architecture  Percentage in Mathematics  \\\n",
       "0                                   87                         84   \n",
       "1                                   73                         84   \n",
       "2                                   72                         72   \n",
       "3                                   62                         88   \n",
       "4                                   73                         71   \n",
       "\n",
       "   Percentage in Communication skills  Hours working per day  ...  \\\n",
       "0                                  61                      9  ...   \n",
       "1                                  91                     12  ...   \n",
       "2                                  94                     11  ...   \n",
       "3                                  69                      7  ...   \n",
       "4                                  73                      4  ...   \n",
       "\n",
       "   Interested Type of Books  Salary Range Expected  In a Realtionship?  \\\n",
       "0              Prayer books                 salary                  no   \n",
       "1                 Childrens                 salary                 yes   \n",
       "2                    Travel                   Work                  no   \n",
       "3                   Romance                   Work                 yes   \n",
       "4                 Cookbooks                 salary                  no   \n",
       "\n",
       "   Gentle or Tuff behaviour? Management or Technical Salary/work  \\\n",
       "0                   stubborn              Management      salary   \n",
       "1                     gentle               Technical      salary   \n",
       "2                   stubborn              Management        work   \n",
       "3                     gentle              Management        work   \n",
       "4                   stubborn              Management        work   \n",
       "\n",
       "  hard/smart worker worked in teams ever? Introvert  \\\n",
       "0       hard worker                   yes        no   \n",
       "1       hard worker                    no       yes   \n",
       "2       hard worker                    no       yes   \n",
       "3      smart worker                   yes       yes   \n",
       "4       hard worker                   yes       yes   \n",
       "\n",
       "               Suggested Job Role  \n",
       "0              Database Developer  \n",
       "1            Portal Administrator  \n",
       "2            Portal Administrator  \n",
       "3  Systems Security Administrator  \n",
       "4        Business Systems Analyst  \n",
       "\n",
       "[5 rows x 39 columns]"
      ]
     },
     "execution_count": 2,
     "metadata": {},
     "output_type": "execute_result"
    }
   ],
   "source": [
    "df = pd.read_csv(\"data/data.csv\")\n",
    "df.head(5)"
   ]
  },
  {
   "cell_type": "markdown",
   "metadata": {},
   "source": [
    "# Preprocessing"
   ]
  },
  {
   "cell_type": "code",
   "execution_count": 3,
   "metadata": {},
   "outputs": [
    {
     "name": "stdout",
     "output_type": "stream",
     "text": [
      "Acedamic percentage in Operating Systems    0\n",
      "percentage in Algorithms                    0\n",
      "Percentage in Programming Concepts          0\n",
      "Percentage in Software Engineering          0\n",
      "Percentage in Computer Networks             0\n",
      "Percentage in Electronics Subjects          0\n",
      "Percentage in Computer Architecture         0\n",
      "Percentage in Mathematics                   0\n",
      "Percentage in Communication skills          0\n",
      "Hours working per day                       0\n",
      "Logical quotient rating                     0\n",
      "hackathons                                  0\n",
      "coding skills rating                        0\n",
      "public speaking points                      0\n",
      "can work long time before system?           0\n",
      "self-learning capability?                   0\n",
      "Extra-courses did                           0\n",
      "certifications                              0\n",
      "workshops                                   0\n",
      "talenttests taken?                          0\n",
      "olympiads                                   0\n",
      "reading and writing skills                  0\n",
      "memory capability score                     0\n",
      "Interested subjects                         0\n",
      "interested career area                      0\n",
      "Job/Higher Studies?                         0\n",
      "Type of company want to settle in?          0\n",
      "Taken inputs from seniors or elders         0\n",
      "interested in games                         0\n",
      "Interested Type of Books                    0\n",
      "Salary Range Expected                       0\n",
      "In a Realtionship?                          0\n",
      "Gentle or Tuff behaviour?                   0\n",
      "Management or Technical                     0\n",
      "Salary/work                                 0\n",
      "hard/smart worker                           0\n",
      "worked in teams ever?                       0\n",
      "Introvert                                   0\n",
      "Suggested Job Role                          0\n",
      "dtype: int64\n"
     ]
    }
   ],
   "source": [
    "missing_data = df.isnull().sum()\n",
    "print(missing_data)"
   ]
  },
  {
   "cell_type": "markdown",
   "metadata": {},
   "source": [
    "# Visualization"
   ]
  },
  {
   "cell_type": "code",
   "execution_count": 4,
   "metadata": {},
   "outputs": [
    {
     "data": {
      "text/plain": [
       "<AxesSubplot:xlabel='Suggested Job Role', ylabel='count'>"
      ]
     },
     "execution_count": 4,
     "metadata": {},
     "output_type": "execute_result"
    },
    {
     "data": {
      "image/png": "[encoded data removed]",
      "text/plain": [
       "<Figure size 432x288 with 1 Axes>"
      ]
     },
     "metadata": {
      "needs_background": "light"
     },
     "output_type": "display_data"
    }
   ],
   "source": [
    "import seaborn as sns\n",
    "sns.countplot(x=\"Suggested Job Role\", data = df)"
   ]
  },
  {
   "cell_type": "code",
   "execution_count": 5,
   "metadata": {},
   "outputs": [
    {
     "name": "stderr",
     "output_type": "stream",
     "text": [
      "/home/user/anaconda3/lib/python3.7/site-packages/seaborn/_decorators.py:43: FutureWarning: Pass the following variables as keyword args: x, y. From version 0.12, the only valid positional argument will be `data`, and passing other arguments without an explicit keyword will result in an error or misinterpretation.\n",
      "  FutureWarning\n"
     ]
    },
    {
     "data": {
      "image/png": "[encoded data removed]",
      "text/plain": [
       "<Figure size 432x288 with 1 Axes>"
      ]
     },
     "metadata": {
      "needs_background": "light"
     },
     "output_type": "display_data"
    }
   ],
   "source": [
    "sns.barplot( df['Acedamic percentage in Operating Systems'],df['Suggested Job Role'])\n",
    "plt.xlim(5,60)\n",
    "plt.show()"
   ]
  },
  {
   "cell_type": "markdown",
   "metadata": {},
   "source": [
    "# Data Cleaning"
   ]
  },
  {
   "cell_type": "code",
   "execution_count": 6,
   "metadata": {},
   "outputs": [
    {
     "name": "stdout",
     "output_type": "stream",
     "text": [
      "<class 'pandas.core.frame.DataFrame'>\n",
      "RangeIndex: 20000 entries, 0 to 19999\n",
      "Data columns (total 39 columns):\n",
      " #   Column                                    Non-Null Count  Dtype \n",
      "---  ------                                    --------------  ----- \n",
      " 0   Acedamic percentage in Operating Systems  20000 non-null  int64 \n",
      " 1   percentage in Algorithms                  20000 non-null  int64 \n",
      " 2   Percentage in Programming Concepts        20000 non-null  int64 \n",
      " 3   Percentage in Software Engineering        20000 non-null  int64 \n",
      " 4   Percentage in Computer Networks           20000 non-null  int64 \n",
      " 5   Percentage in Electronics Subjects        20000 non-null  int64 \n",
      " 6   Percentage in Computer Architecture       20000 non-null  int64 \n",
      " 7   Percentage in Mathematics                 20000 non-null  int64 \n",
      " 8   Percentage in Communication skills        20000 non-null  int64 \n",
      " 9   Hours working per day                     20000 non-null  int64 \n",
      " 10  Logical quotient rating                   20000 non-null  int64 \n",
      " 11  hackathons                                20000 non-null  int64 \n",
      " 12  coding skills rating                      20000 non-null  int64 \n",
      " 13  public speaking points                    20000 non-null  int64 \n",
      " 14  can work long time before system?         20000 non-null  object\n",
      " 15  self-learning capability?                 20000 non-null  object\n",
      " 16  Extra-courses did                         20000 non-null  object\n",
      " 17  certifications                            20000 non-null  object\n",
      " 18  workshops                                 20000 non-null  object\n",
      " 19  talenttests taken?                        20000 non-null  object\n",
      " 20  olympiads                                 20000 non-null  object\n",
      " 21  reading and writing skills                20000 non-null  object\n",
      " 22  memory capability score                   20000 non-null  object\n",
      " 23  Interested subjects                       20000 non-null  object\n",
      " 24  interested career area                    20000 non-null  object\n",
      " 25  Job/Higher Studies?                       20000 non-null  object\n",
      " 26  Type of company want to settle in?        20000 non-null  object\n",
      " 27  Taken inputs from seniors or elders       20000 non-null  object\n",
      " 28  interested in games                       20000 non-null  object\n",
      " 29  Interested Type of Books                  20000 non-null  object\n",
      " 30  Salary Range Expected                     20000 non-null  object\n",
      " 31  In a Realtionship?                        20000 non-null  object\n",
      " 32  Gentle or Tuff behaviour?                 20000 non-null  object\n",
      " 33  Management or Technical                   20000 non-null  object\n",
      " 34  Salary/work                               20000 non-null  object\n",
      " 35  hard/smart worker                         20000 non-null  object\n",
      " 36  worked in teams ever?                     20000 non-null  object\n",
      " 37  Introvert                                 20000 non-null  object\n",
      " 38  Suggested Job Role                        20000 non-null  object\n",
      "dtypes: int64(14), object(25)\n",
      "memory usage: 6.0+ MB\n"
     ]
    }
   ],
   "source": [
    "df.info()"
   ]
  },
  {
   "cell_type": "code",
   "execution_count": 7,
   "metadata": {},
   "outputs": [],
   "source": [
    "df.drop(['memory capability score', 'Interested subjects','interested career area ','Job/Higher Studies?','Type of company want to settle in?','Taken inputs from seniors or elders','interested in games','Interested Type of Books','Salary Range Expected','In a Realtionship?','Gentle or Tuff behaviour?','Salary/work','hard/smart worker','worked in teams ever?'], axis=1, inplace=True)"
   ]
  },
  {
   "cell_type": "code",
   "execution_count": 8,
   "metadata": {},
   "outputs": [
    {
     "data": {
      "text/plain": [
       "array(['excellent', 'poor', 'medium'], dtype=object)"
      ]
     },
     "execution_count": 8,
     "metadata": {},
     "output_type": "execute_result"
    }
   ],
   "source": [
    "df['reading and writing skills'].unique()"
   ]
  },
  {
   "cell_type": "code",
   "execution_count": 9,
   "metadata": {},
   "outputs": [],
   "source": [
    "df['Suggested Job Role'] = df['Suggested Job Role'].replace({'Database Developer': 0, 'Technical Support': 0, 'Business Intelligence Analyst': 0, 'Business Systems Analyst': 0, 'Portal Administrator': 0, 'Data Architect': 0,'Systems Security Administrator': 1, 'CRM Technical Developer': 1, 'Software Systems Engineer': 1, 'Mobile Applications Developer': 1, 'UX Designer': 1, 'Quality Assurance Associate': 1,'Web Developer': 2, 'Information Security Analyst': 2, 'CRM Business Analyst': 2, 'Project Manager': 2, 'Information Technology Manager': 2, 'Programmer Analyst': 2,'Design & UX': 3, 'Solutions Architect': 3, 'Systems Analyst': 3, 'Network Security Administrator': 3, 'Data Architect': 3, 'Software Developer': 3,'E-Commerce Analyst': 4, 'Technical Services/Help Desk/Tech Support': 4, 'Information Technology Auditor': 4, 'Database Manager': 4, 'Applications Developer': 4, 'Database Administrator': 4,'Network Engineer': 5, 'Software Engineer': 5, 'Technical Engineer': 5, 'Network Security Engineer': 5,'Software Quality Assurance (QA) / Testing': 5})"
   ]
  },
  {
   "cell_type": "code",
   "execution_count": 10,
   "metadata": {},
   "outputs": [],
   "source": [
    "from sklearn import preprocessing\n",
    "  \n",
    "# label_encoder object knows how to understand word labels.\n",
    "label_encoder = preprocessing.LabelEncoder()"
   ]
  },
  {
   "cell_type": "code",
   "execution_count": 11,
   "metadata": {},
   "outputs": [],
   "source": [
    "df['can work long time before system?']= label_encoder.fit_transform(df['can work long time before system?'])\n",
    "df['self-learning capability?']= label_encoder.fit_transform(df['self-learning capability?'])\n",
    "df['Extra-courses did']= label_encoder.fit_transform(df['Extra-courses did'])\n",
    "df['certifications']= label_encoder.fit_transform(df['certifications'])\n",
    "df['workshops']= label_encoder.fit_transform(df['workshops'])\n",
    "df['talenttests taken?']= label_encoder.fit_transform(df['talenttests taken?'])\n",
    "df['olympiads']= label_encoder.fit_transform(df['olympiads'])\n",
    "df['reading and writing skills']= label_encoder.fit_transform(df['reading and writing skills'])\n",
    "df['Management or Technical']= label_encoder.fit_transform(df['Management or Technical'])\n",
    "df['Introvert']= label_encoder.fit_transform(df['Introvert'])"
   ]
  },
  {
   "cell_type": "code",
   "execution_count": 12,
   "metadata": {},
   "outputs": [
    {
     "data": {
      "text/plain": [
       "array([0, 1])"
      ]
     },
     "execution_count": 12,
     "metadata": {},
     "output_type": "execute_result"
    }
   ],
   "source": [
    "df['can work long time before system?'].unique()\n",
    "df['self-learning capability?'].unique()\n",
    "df['Extra-courses did'].unique()\n",
    "df['certifications'].unique()\n",
    "df['workshops'].unique()\n",
    "df['talenttests taken?'].unique()\n",
    "df['olympiads'].unique()\n",
    "df['reading and writing skills'].unique()\n",
    "df['Management or Technical'].unique()\n",
    "df['Introvert'].unique()"
   ]
  },
  {
   "cell_type": "code",
   "execution_count": 13,
   "metadata": {},
   "outputs": [
    {
     "name": "stdout",
     "output_type": "stream",
     "text": [
      "<class 'pandas.core.frame.DataFrame'>\n",
      "RangeIndex: 20000 entries, 0 to 19999\n",
      "Data columns (total 25 columns):\n",
      " #   Column                                    Non-Null Count  Dtype\n",
      "---  ------                                    --------------  -----\n",
      " 0   Acedamic percentage in Operating Systems  20000 non-null  int64\n",
      " 1   percentage in Algorithms                  20000 non-null  int64\n",
      " 2   Percentage in Programming Concepts        20000 non-null  int64\n",
      " 3   Percentage in Software Engineering        20000 non-null  int64\n",
      " 4   Percentage in Computer Networks           20000 non-null  int64\n",
      " 5   Percentage in Electronics Subjects        20000 non-null  int64\n",
      " 6   Percentage in Computer Architecture       20000 non-null  int64\n",
      " 7   Percentage in Mathematics                 20000 non-null  int64\n",
      " 8   Percentage in Communication skills        20000 non-null  int64\n",
      " 9   Hours working per day                     20000 non-null  int64\n",
      " 10  Logical quotient rating                   20000 non-null  int64\n",
      " 11  hackathons                                20000 non-null  int64\n",
      " 12  coding skills rating                      20000 non-null  int64\n",
      " 13  public speaking points                    20000 non-null  int64\n",
      " 14  can work long time before system?         20000 non-null  int64\n",
      " 15  self-learning capability?                 20000 non-null  int64\n",
      " 16  Extra-courses did                         20000 non-null  int64\n",
      " 17  certifications                            20000 non-null  int64\n",
      " 18  workshops                                 20000 non-null  int64\n",
      " 19  talenttests taken?                        20000 non-null  int64\n",
      " 20  olympiads                                 20000 non-null  int64\n",
      " 21  reading and writing skills                20000 non-null  int64\n",
      " 22  Management or Technical                   20000 non-null  int64\n",
      " 23  Introvert                                 20000 non-null  int64\n",
      " 24  Suggested Job Role                        20000 non-null  int64\n",
      "dtypes: int64(25)\n",
      "memory usage: 3.8 MB\n"
     ]
    }
   ],
   "source": [
    "df.info()"
   ]
  },
  {
   "cell_type": "code",
   "execution_count": 14,
   "metadata": {},
   "outputs": [
    {
     "name": "stdout",
     "output_type": "stream",
     "text": [
      "(20000, 25)\n"
     ]
    }
   ],
   "source": [
    "print(df.shape)"
   ]
  },
  {
   "cell_type": "markdown",
   "metadata": {},
   "source": [
    "# Feature Selection"
   ]
  },
  {
   "cell_type": "code",
   "execution_count": 15,
   "metadata": {},
   "outputs": [],
   "source": [
    "X = df.iloc[:, 0:24]\n",
    "y = df.iloc[:,24]"
   ]
  },
  {
   "cell_type": "markdown",
   "metadata": {},
   "source": [
    "# Data Splitting & Scaling"
   ]
  },
  {
   "cell_type": "code",
   "execution_count": 16,
   "metadata": {},
   "outputs": [],
   "source": [
    "from sklearn.preprocessing import StandardScaler\n",
    "from sklearn.model_selection import train_test_split\n",
    "\n",
    "X_train, X_test, y_train, y_test = train_test_split(X, y, random_state=1)"
   ]
  },
  {
   "cell_type": "code",
   "execution_count": 17,
   "metadata": {},
   "outputs": [],
   "source": [
    "from sklearn.preprocessing import StandardScaler\n",
    "sc_x = StandardScaler()\n",
    "sc_y = StandardScaler()\n",
    "X_train = sc_x.fit_transform(X_train)\n",
    "X_test = sc_x.transform(X_test)"
   ]
  },
  {
   "cell_type": "code",
   "execution_count": 18,
   "metadata": {},
   "outputs": [],
   "source": [
    "import pickle\n",
    "pickle.dump(sc_x, open(\"scalerX\", \"wb\"))"
   ]
  },
  {
   "cell_type": "code",
   "execution_count": 19,
   "metadata": {},
   "outputs": [],
   "source": [
    "X_scaler = StandardScaler().fit(X_train)\n",
    "X_train_scaled = X_scaler.transform(X_train)\n",
    "X_test_scaled = X_scaler.transform(X_test)"
   ]
  },
  {
   "cell_type": "markdown",
   "metadata": {},
   "source": [
    "# Machine Learning"
   ]
  },
  {
   "cell_type": "code",
   "execution_count": 20,
   "metadata": {},
   "outputs": [],
   "source": [
    "from sklearn.model_selection import cross_val_score\n",
    "from sklearn.metrics import classification_report\n",
    "from sklearn.metrics import confusion_matrix\n",
    "from sklearn.metrics import accuracy_score"
   ]
  },
  {
   "cell_type": "markdown",
   "metadata": {},
   "source": [
    "# Random Forest Classifier"
   ]
  },
  {
   "cell_type": "code",
   "execution_count": 21,
   "metadata": {},
   "outputs": [
    {
     "name": "stdout",
     "output_type": "stream",
     "text": [
      "*Confusion Matrix for RF: \n",
      "[[ 50 135 131 256  91  48]\n",
      " [ 55 169 149 314 137  57]\n",
      " [ 66 149 134 319 123  57]\n",
      " [ 72 173 179 323 130  79]\n",
      " [ 57 158 163 302 131  57]\n",
      " [ 57 116 142 291  85  45]]\n"
     ]
    }
   ],
   "source": [
    "from sklearn.ensemble import RandomForestClassifier\n",
    "RF = RandomForestClassifier()\n",
    "RF.fit(X_train_scaled, y_train)\n",
    "predictions = RF.predict(X_test_scaled)\n",
    "print(\"*Confusion Matrix for RF: \")\n",
    "print(confusion_matrix(y_test, predictions))"
   ]
  },
  {
   "cell_type": "code",
   "execution_count": 22,
   "metadata": {},
   "outputs": [
    {
     "name": "stdout",
     "output_type": "stream",
     "text": [
      "0.5476772616136919\n",
      "17.04\n",
      "22.831050228310502\n",
      "71.05263157894737\n"
     ]
    }
   ],
   "source": [
    "confusion = confusion_matrix(y_test, predictions)\n",
    "TP = confusion[0, 0]\n",
    "TN = confusion[0, 1]\n",
    "FP = confusion[1, 0]\n",
    "FN = confusion[1, 1]\n",
    "classification_error = (FP + FN) / float(TP + TN + FP + FN)\n",
    "\n",
    "print(classification_error)\n",
    "val1 = accuracy_score(y_test, predictions) *100\n",
    "print(val1)\n",
    "from sklearn import metrics\n",
    "RF_sensitivity = ((TP / float(FN + TP)))* 100\n",
    "\n",
    "print(RF_sensitivity)\n",
    "RF_specificity = ((TN / (TN + FP))) * 100\n",
    "\n",
    "print(RF_specificity)"
   ]
  },
  {
   "cell_type": "markdown",
   "metadata": {},
   "source": [
    "# Voting Classifier"
   ]
  },
  {
   "cell_type": "code",
   "execution_count": 22,
   "metadata": {},
   "outputs": [
    {
     "name": "stdout",
     "output_type": "stream",
     "text": [
      "*Confusion Matrix for Voting Classifier: \n",
      "[[126 180 125 205  57  18]\n",
      " [156 214 167 256  65  23]\n",
      " [157 208 139 256  61  27]\n",
      " [176 237 182 275  69  17]\n",
      " [160 206 161 246  76  19]\n",
      " [138 168 141 228  34  27]]\n"
     ]
    }
   ],
   "source": [
    "from sklearn.svm import SVC\n",
    "from sklearn.tree import DecisionTreeClassifier\n",
    "from sklearn.ensemble import RandomForestClassifier, VotingClassifier\n",
    "clf1 = SVC(gamma='auto')\n",
    "clf2 = RandomForestClassifier(n_estimators=50, random_state=1)\n",
    "clf3 = DecisionTreeClassifier()\n",
    "eclf1 = VotingClassifier(estimators=[('lr', clf1), ('rf', clf2), ('dt', clf3)], voting='hard')\n",
    "eclf1.fit(X_train, y_train)\n",
    "predictions = eclf1.predict(X_test)\n",
    "print(\"*Confusion Matrix for Voting Classifier: \")\n",
    "print(confusion_matrix(y_test, predictions))"
   ]
  },
  {
   "cell_type": "code",
   "execution_count": 23,
   "metadata": {},
   "outputs": [
    {
     "name": "stdout",
     "output_type": "stream",
     "text": [
      "0.5473372781065089\n",
      "17.14\n",
      "37.05882352941177\n",
      "53.57142857142857\n"
     ]
    }
   ],
   "source": [
    "confusion = confusion_matrix(y_test, predictions)\n",
    "TP = confusion[0, 0]\n",
    "TN = confusion[0, 1]\n",
    "FP = confusion[1, 0]\n",
    "FN = confusion[1, 1]\n",
    "classification_error = (FP + FN) / float(TP + TN + FP + FN)\n",
    "\n",
    "print(classification_error)\n",
    "val2 = accuracy_score(y_test, predictions) * 100\n",
    "print(val2)\n",
    "from sklearn import metrics\n",
    "VOT_sensitivity = ((TP / float(FN + TP))) * 100\n",
    "\n",
    "print(VOT_sensitivity)\n",
    "VOT_specificity = ((TN / (TN + FP))) * 100\n",
    "\n",
    "print(VOT_specificity)"
   ]
  },
  {
   "cell_type": "markdown",
   "metadata": {},
   "source": [
    "# Decision Tree Classifier"
   ]
  },
  {
   "cell_type": "code",
   "execution_count": 24,
   "metadata": {},
   "outputs": [
    {
     "name": "stdout",
     "output_type": "stream",
     "text": [
      "*Confusion Matrix for DT: \n",
      "[[ 99 124 113 158 119  98]\n",
      " [119 144 163 173 145 137]\n",
      " [127 143 147 167 133 131]\n",
      " [132 151 189 195 148 141]\n",
      " [130 139 148 177 149 125]\n",
      " [102 121 121 156 114 122]]\n"
     ]
    }
   ],
   "source": [
    "from sklearn import tree\n",
    "DT = tree.DecisionTreeClassifier()\n",
    "DT.fit(X_train_scaled, y_train)\n",
    "predictions = DT.predict(X_test_scaled)\n",
    "print(\"*Confusion Matrix for DT: \")\n",
    "print(confusion_matrix(y_test, predictions))"
   ]
  },
  {
   "cell_type": "code",
   "execution_count": 25,
   "metadata": {},
   "outputs": [
    {
     "name": "stdout",
     "output_type": "stream",
     "text": [
      "0.5411522633744856\n",
      "17.119999999999997\n",
      "40.74074074074074\n",
      "51.028806584362144\n"
     ]
    }
   ],
   "source": [
    "confusion = confusion_matrix(y_test, predictions)\n",
    "TP = confusion[0, 0]\n",
    "TN = confusion[0, 1]\n",
    "FP = confusion[1, 0]\n",
    "FN = confusion[1, 1]\n",
    "classification_error = (FP + FN) / float(TP + TN + FP + FN)\n",
    "\n",
    "print(classification_error)\n",
    "val3 = accuracy_score(y_test, predictions) * 100\n",
    "print(val3)\n",
    "from sklearn import metrics\n",
    "DT_sensitivity = ((TP / float(FN + TP))) * 100\n",
    "\n",
    "print(DT_sensitivity)\n",
    "DT_specificity = ((TN / (TN + FP))) * 100\n",
    "\n",
    "print(DT_specificity)"
   ]
  },
  {
   "cell_type": "markdown",
   "metadata": {},
   "source": [
    "# Accuracy Comparsion"
   ]
  },
  {
   "cell_type": "code",
   "execution_count": 26,
   "metadata": {},
   "outputs": [
    {
     "data": {
      "image/png": "[encoded data removed]",
      "text/plain": [
       "<Figure size 432x288 with 1 Axes>"
      ]
     },
     "metadata": {
      "needs_background": "light"
     },
     "output_type": "display_data"
    }
   ],
   "source": [
    "import numpy as np\n",
    "import matplotlib.pyplot as plt\n",
    "\n",
    "N = 3\n",
    "ind = np.arange(N)  # the x locations for the groups\n",
    "width = 0.2      # the width of the bars\n",
    "\n",
    "fig = plt.figure()\n",
    "ax = fig.add_subplot(111)\n",
    "\n",
    "yvals = [val1*5,val2*5,val3*5]\n",
    "\n",
    "rects1 = ax.bar(ind, yvals, width, color='r')\n",
    "zvals = [RF_sensitivity,VOT_sensitivity,DT_sensitivity]\n",
    "rects2 = ax.bar(ind+width, zvals, width, color='g')\n",
    "kvals = [RF_specificity,VOT_specificity,DT_specificity]\n",
    "rects3 = ax.bar(ind+width*2, kvals, width, color='b')\n",
    "\n",
    "ax.set_ylabel('Scores')\n",
    "ax.set_xticks(ind+width)\n",
    "ax.set_xticklabels( ('RF','DT','Voting Classifier') )\n",
    "ax.legend( (rects1[0], rects2[0], rects3[0]), ('Accuracy', 'Sensitvity', 'Specificity') )\n",
    "\n",
    "def autolabel(rects):\n",
    "    for rect in rects:\n",
    "        h = rect.get_height()\n",
    "        ax.text(rect.get_x()+rect.get_width()/2., 1.05*h, '%d'%int(h),\n",
    "                ha='center', va='bottom')\n",
    "\n",
    "autolabel(rects1)\n",
    "autolabel(rects2)\n",
    "autolabel(rects3)\n",
    "\n",
    "plt.show()"
   ]
  },
  {
   "cell_type": "markdown",
   "metadata": {},
   "source": [
    "# Model Building"
   ]
  },
  {
   "cell_type": "code",
   "execution_count": 23,
   "metadata": {},
   "outputs": [
    {
     "data": {
      "text/plain": [
       "['model.sav']"
      ]
     },
     "execution_count": 23,
     "metadata": {},
     "output_type": "execute_result"
    }
   ],
   "source": [
    "import joblib\n",
    "filename = 'model.sav'\n",
    "joblib.dump(RF, filename)"
   ]
  },
  {
   "cell_type": "code",
   "execution_count": null,
   "metadata": {},
   "outputs": [],
   "source": []
  }
 ],
 "metadata": {
  "kernelspec": {
   "display_name": "Python 3",
   "language": "python",
   "name": "python3"
  },
  "language_info": {
   "codemirror_mode": {
    "name": "ipython",
    "version": 3
   },
   "file_extension": ".py",
   "mimetype": "text/x-python",
   "name": "python",
   "nbconvert_exporter": "python",
   "pygments_lexer": "ipython3",
   "version": "3.7.6"
  }
 },
 "nbformat": 4,
 "nbformat_minor": 4
}
